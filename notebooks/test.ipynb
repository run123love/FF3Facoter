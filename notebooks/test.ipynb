{
 "cells": [
  {
   "cell_type": "code",
   "execution_count": 3,
   "metadata": {
    "collapsed": true,
    "pycharm": {
     "is_executing": false
    }
   },
   "outputs": [
    {
     "name": "stderr",
     "text": [
      "c:\\users\\administrator\\.virtualenvs\\fof-eda-mwopwcas\\lib\\site-packages\\tushare\\util\\upass.py:28: FutureWarning: \n.ix is deprecated. Please use\n.loc for label based indexing or\n.iloc for positional indexing\n\nSee the documentation here:\nhttp://pandas.pydata.org/pandas-docs/stable/user_guide/indexing.html#ix-indexer-is-deprecated\n  return str(df.ix[0]['token'])\n"
     ],
     "output_type": "stream"
    }
   ],
   "source": [
    "from myhelpers.tushare_pro import pro"
   ]
  },
  {
   "cell_type": "code",
   "execution_count": 5,
   "outputs": [],
   "source": [
    "df = pro.fund_basic(market='E')"
   ],
   "metadata": {
    "collapsed": false,
    "pycharm": {
     "name": "#%%\n",
     "is_executing": false
    }
   }
  },
  {
   "cell_type": "code",
   "execution_count": 6,
   "outputs": [
    {
     "data": {
      "text/plain": "     ts_code   name management custodian fund_type found_date due_date  \\\n0  515000.SH  科技ETF       华宝基金    中国工商银行       股票型   20190722     None   \n1  501079.SH   科创大成       大成基金    中国建设银行       混合型   20190718     None   \n2  161729.SZ   招商瑞利       招商基金    中国建设银行       混合型   20190718     None   \n3  159973.SZ  民企100     弘毅远方基金      广发证券       股票型   20190716     None   \n4  512930.SH  AIETF       平安基金      交通银行       股票型   20190712     None   \n\n  list_date issue_date delist_date  ...  min_amount  exp_return  \\\n0      None   20190704        None  ...      0.1000        None   \n1      None   20190624        None  ...      0.0001        None   \n2      None   20190603        None  ...      0.0010        None   \n3      None   20190617        None  ...      0.1000        None   \n4      None   20190513        None  ...      0.1000        None   \n\n                                           benchmark  status  invest_type  \\\n0                                        中证科技龙头指数收益率       I        被动指数型   \n1                中国战略新兴产业成份指数收益率*60%+中债综合全价指数收益率*40%       I        灵活配置型   \n2  沪深300指数收益率*60%+中证全债指数收益率*30%+恒生指数收益率(使用估值汇率折算)...       I        灵活配置型   \n3                                     国证民企领先100指数收益率       I        被动指数型   \n4                                      中证人工智能主题指数收益率       I        被动指数型   \n\n     type trustee purc_startdate redm_startdate market  \n0  契约型开放式    None           None           None      E  \n1  契约型开放式    None           None           None      E  \n2  契约型开放式    None           None           None      E  \n3  契约型开放式    None           None           None      E  \n4  契约型开放式    None           None           None      E  \n\n[5 rows x 25 columns]",
      "text/html": "<div>\n<style scoped>\n    .dataframe tbody tr th:only-of-type {\n        vertical-align: middle;\n    }\n\n    .dataframe tbody tr th {\n        vertical-align: top;\n    }\n\n    .dataframe thead th {\n        text-align: right;\n    }\n</style>\n<table border=\"1\" class=\"dataframe\">\n  <thead>\n    <tr style=\"text-align: right;\">\n      <th></th>\n      <th>ts_code</th>\n      <th>name</th>\n      <th>management</th>\n      <th>custodian</th>\n      <th>fund_type</th>\n      <th>found_date</th>\n      <th>due_date</th>\n      <th>list_date</th>\n      <th>issue_date</th>\n      <th>delist_date</th>\n      <th>...</th>\n      <th>min_amount</th>\n      <th>exp_return</th>\n      <th>benchmark</th>\n      <th>status</th>\n      <th>invest_type</th>\n      <th>type</th>\n      <th>trustee</th>\n      <th>purc_startdate</th>\n      <th>redm_startdate</th>\n      <th>market</th>\n    </tr>\n  </thead>\n  <tbody>\n    <tr>\n      <th>0</th>\n      <td>515000.SH</td>\n      <td>科技ETF</td>\n      <td>华宝基金</td>\n      <td>中国工商银行</td>\n      <td>股票型</td>\n      <td>20190722</td>\n      <td>None</td>\n      <td>None</td>\n      <td>20190704</td>\n      <td>None</td>\n      <td>...</td>\n      <td>0.1000</td>\n      <td>None</td>\n      <td>中证科技龙头指数收益率</td>\n      <td>I</td>\n      <td>被动指数型</td>\n      <td>契约型开放式</td>\n      <td>None</td>\n      <td>None</td>\n      <td>None</td>\n      <td>E</td>\n    </tr>\n    <tr>\n      <th>1</th>\n      <td>501079.SH</td>\n      <td>科创大成</td>\n      <td>大成基金</td>\n      <td>中国建设银行</td>\n      <td>混合型</td>\n      <td>20190718</td>\n      <td>None</td>\n      <td>None</td>\n      <td>20190624</td>\n      <td>None</td>\n      <td>...</td>\n      <td>0.0001</td>\n      <td>None</td>\n      <td>中国战略新兴产业成份指数收益率*60%+中债综合全价指数收益率*40%</td>\n      <td>I</td>\n      <td>灵活配置型</td>\n      <td>契约型开放式</td>\n      <td>None</td>\n      <td>None</td>\n      <td>None</td>\n      <td>E</td>\n    </tr>\n    <tr>\n      <th>2</th>\n      <td>161729.SZ</td>\n      <td>招商瑞利</td>\n      <td>招商基金</td>\n      <td>中国建设银行</td>\n      <td>混合型</td>\n      <td>20190718</td>\n      <td>None</td>\n      <td>None</td>\n      <td>20190603</td>\n      <td>None</td>\n      <td>...</td>\n      <td>0.0010</td>\n      <td>None</td>\n      <td>沪深300指数收益率*60%+中证全债指数收益率*30%+恒生指数收益率(使用估值汇率折算)...</td>\n      <td>I</td>\n      <td>灵活配置型</td>\n      <td>契约型开放式</td>\n      <td>None</td>\n      <td>None</td>\n      <td>None</td>\n      <td>E</td>\n    </tr>\n    <tr>\n      <th>3</th>\n      <td>159973.SZ</td>\n      <td>民企100</td>\n      <td>弘毅远方基金</td>\n      <td>广发证券</td>\n      <td>股票型</td>\n      <td>20190716</td>\n      <td>None</td>\n      <td>None</td>\n      <td>20190617</td>\n      <td>None</td>\n      <td>...</td>\n      <td>0.1000</td>\n      <td>None</td>\n      <td>国证民企领先100指数收益率</td>\n      <td>I</td>\n      <td>被动指数型</td>\n      <td>契约型开放式</td>\n      <td>None</td>\n      <td>None</td>\n      <td>None</td>\n      <td>E</td>\n    </tr>\n    <tr>\n      <th>4</th>\n      <td>512930.SH</td>\n      <td>AIETF</td>\n      <td>平安基金</td>\n      <td>交通银行</td>\n      <td>股票型</td>\n      <td>20190712</td>\n      <td>None</td>\n      <td>None</td>\n      <td>20190513</td>\n      <td>None</td>\n      <td>...</td>\n      <td>0.1000</td>\n      <td>None</td>\n      <td>中证人工智能主题指数收益率</td>\n      <td>I</td>\n      <td>被动指数型</td>\n      <td>契约型开放式</td>\n      <td>None</td>\n      <td>None</td>\n      <td>None</td>\n      <td>E</td>\n    </tr>\n  </tbody>\n</table>\n<p>5 rows × 25 columns</p>\n</div>"
     },
     "metadata": {},
     "output_type": "execute_result",
     "execution_count": 6
    }
   ],
   "source": [
    "df.head()"
   ],
   "metadata": {
    "collapsed": false,
    "pycharm": {
     "name": "#%%\n",
     "is_executing": false
    }
   }
  },
  {
   "cell_type": "code",
   "execution_count": 8,
   "outputs": [
    {
     "data": {
      "text/plain": "array(['I', 'L', 'D'], dtype=object)"
     },
     "metadata": {},
     "output_type": "execute_result",
     "execution_count": 8
    }
   ],
   "source": [
    "df['status'].unique()"
   ],
   "metadata": {
    "collapsed": false,
    "pycharm": {
     "name": "#%%\n",
     "is_executing": false
    }
   }
  },
  {
   "cell_type": "code",
   "execution_count": 11,
   "outputs": [],
   "source": [
    "fund_nav = pro.fund_nav(ts_code='165509.SZ')"
   ],
   "metadata": {
    "collapsed": false,
    "pycharm": {
     "name": "#%%\n",
     "is_executing": false
    }
   }
  },
  {
   "cell_type": "code",
   "execution_count": 10,
   "outputs": [
    {
     "data": {
      "text/plain": "     invest_type\n0          被动指数型\n1          灵活配置型\n2          灵活配置型\n3          被动指数型\n4          被动指数型\n...          ...\n1078       被动指数型\n1079       被动指数型\n1080       被动指数型\n1081       灵活配置型\n1082       被动指数型\n\n[1083 rows x 1 columns]",
      "text/html": "<div>\n<style scoped>\n    .dataframe tbody tr th:only-of-type {\n        vertical-align: middle;\n    }\n\n    .dataframe tbody tr th {\n        vertical-align: top;\n    }\n\n    .dataframe thead th {\n        text-align: right;\n    }\n</style>\n<table border=\"1\" class=\"dataframe\">\n  <thead>\n    <tr style=\"text-align: right;\">\n      <th></th>\n      <th>invest_type</th>\n    </tr>\n  </thead>\n  <tbody>\n    <tr>\n      <th>0</th>\n      <td>被动指数型</td>\n    </tr>\n    <tr>\n      <th>1</th>\n      <td>灵活配置型</td>\n    </tr>\n    <tr>\n      <th>2</th>\n      <td>灵活配置型</td>\n    </tr>\n    <tr>\n      <th>3</th>\n      <td>被动指数型</td>\n    </tr>\n    <tr>\n      <th>4</th>\n      <td>被动指数型</td>\n    </tr>\n    <tr>\n      <th>5</th>\n      <td>灵活配置型</td>\n    </tr>\n    <tr>\n      <th>6</th>\n      <td>被动指数型</td>\n    </tr>\n    <tr>\n      <th>7</th>\n      <td>灵活配置型</td>\n    </tr>\n    <tr>\n      <th>8</th>\n      <td>被动指数型</td>\n    </tr>\n    <tr>\n      <th>9</th>\n      <td>灵活配置型</td>\n    </tr>\n    <tr>\n      <th>10</th>\n      <td>被动指数型</td>\n    </tr>\n    <tr>\n      <th>11</th>\n      <td>灵活配置型</td>\n    </tr>\n    <tr>\n      <th>12</th>\n      <td>增强指数型</td>\n    </tr>\n    <tr>\n      <th>13</th>\n      <td>灵活配置型</td>\n    </tr>\n    <tr>\n      <th>14</th>\n      <td>债券型</td>\n    </tr>\n    <tr>\n      <th>15</th>\n      <td>混合型</td>\n    </tr>\n    <tr>\n      <th>16</th>\n      <td>被动指数型</td>\n    </tr>\n    <tr>\n      <th>17</th>\n      <td>被动指数型</td>\n    </tr>\n    <tr>\n      <th>18</th>\n      <td>被动指数型</td>\n    </tr>\n    <tr>\n      <th>19</th>\n      <td>被动指数型</td>\n    </tr>\n    <tr>\n      <th>20</th>\n      <td>被动指数型</td>\n    </tr>\n    <tr>\n      <th>21</th>\n      <td>灵活配置型</td>\n    </tr>\n    <tr>\n      <th>22</th>\n      <td>被动指数型</td>\n    </tr>\n    <tr>\n      <th>23</th>\n      <td>被动指数型</td>\n    </tr>\n    <tr>\n      <th>24</th>\n      <td>灵活配置型</td>\n    </tr>\n    <tr>\n      <th>25</th>\n      <td>灵活配置型</td>\n    </tr>\n    <tr>\n      <th>26</th>\n      <td>灵活配置型</td>\n    </tr>\n    <tr>\n      <th>27</th>\n      <td>灵活配置型</td>\n    </tr>\n    <tr>\n      <th>28</th>\n      <td>增强指数型</td>\n    </tr>\n    <tr>\n      <th>29</th>\n      <td>灵活配置型</td>\n    </tr>\n    <tr>\n      <th>...</th>\n      <td>...</td>\n    </tr>\n    <tr>\n      <th>1053</th>\n      <td>成长型</td>\n    </tr>\n    <tr>\n      <th>1054</th>\n      <td>成长型</td>\n    </tr>\n    <tr>\n      <th>1055</th>\n      <td>成长型</td>\n    </tr>\n    <tr>\n      <th>1056</th>\n      <td>成长型</td>\n    </tr>\n    <tr>\n      <th>1057</th>\n      <td>成长型</td>\n    </tr>\n    <tr>\n      <th>1058</th>\n      <td>成长型</td>\n    </tr>\n    <tr>\n      <th>1059</th>\n      <td>成长型</td>\n    </tr>\n    <tr>\n      <th>1060</th>\n      <td>成长型</td>\n    </tr>\n    <tr>\n      <th>1061</th>\n      <td>成长型</td>\n    </tr>\n    <tr>\n      <th>1062</th>\n      <td>成长型</td>\n    </tr>\n    <tr>\n      <th>1063</th>\n      <td>成长型</td>\n    </tr>\n    <tr>\n      <th>1064</th>\n      <td>平衡型</td>\n    </tr>\n    <tr>\n      <th>1065</th>\n      <td>混合型</td>\n    </tr>\n    <tr>\n      <th>1066</th>\n      <td>被动指数型</td>\n    </tr>\n    <tr>\n      <th>1067</th>\n      <td>被动指数型</td>\n    </tr>\n    <tr>\n      <th>1068</th>\n      <td>被动指数型</td>\n    </tr>\n    <tr>\n      <th>1069</th>\n      <td>被动指数型</td>\n    </tr>\n    <tr>\n      <th>1070</th>\n      <td>被动指数型</td>\n    </tr>\n    <tr>\n      <th>1071</th>\n      <td>被动指数型</td>\n    </tr>\n    <tr>\n      <th>1072</th>\n      <td>混合型</td>\n    </tr>\n    <tr>\n      <th>1073</th>\n      <td>被动指数型</td>\n    </tr>\n    <tr>\n      <th>1074</th>\n      <td>被动指数型</td>\n    </tr>\n    <tr>\n      <th>1075</th>\n      <td>被动指数型</td>\n    </tr>\n    <tr>\n      <th>1076</th>\n      <td>被动指数型</td>\n    </tr>\n    <tr>\n      <th>1077</th>\n      <td>混合型</td>\n    </tr>\n    <tr>\n      <th>1078</th>\n      <td>被动指数型</td>\n    </tr>\n    <tr>\n      <th>1079</th>\n      <td>被动指数型</td>\n    </tr>\n    <tr>\n      <th>1080</th>\n      <td>被动指数型</td>\n    </tr>\n    <tr>\n      <th>1081</th>\n      <td>灵活配置型</td>\n    </tr>\n    <tr>\n      <th>1082</th>\n      <td>被动指数型</td>\n    </tr>\n  </tbody>\n</table>\n<p>1083 rows × 1 columns</p>\n</div>"
     },
     "metadata": {},
     "output_type": "execute_result",
     "execution_count": 10
    }
   ],
   "source": [
    "df[[\"invest_type\"]]"
   ],
   "metadata": {
    "collapsed": false,
    "pycharm": {
     "name": "#%%\n",
     "is_executing": false
    }
   }
  },
  {
   "cell_type": "code",
   "execution_count": null,
   "outputs": [],
   "source": [
    "\n"
   ],
   "metadata": {
    "collapsed": false,
    "pycharm": {
     "name": "#%%\n"
    }
   }
  }
 ],
 "metadata": {
  "language_info": {
   "codemirror_mode": {
    "name": "ipython",
    "version": 2
   },
   "file_extension": ".py",
   "mimetype": "text/x-python",
   "name": "python",
   "nbconvert_exporter": "python",
   "pygments_lexer": "ipython2",
   "version": "2.7.6"
  },
  "kernelspec": {
   "name": "python3",
   "language": "python",
   "display_name": "Python 3"
  },
  "pycharm": {
   "stem_cell": {
    "cell_type": "raw",
    "source": [],
    "metadata": {
     "collapsed": false
    }
   }
  }
 },
 "nbformat": 4,
 "nbformat_minor": 0
}