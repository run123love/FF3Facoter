{
 "cells": [
  {
   "cell_type": "markdown",
   "source": [
    "# Fama-French三因子模型\n",
    "该notebook用于计算A股市场的三因子模型\n",
    "参考https://zhuanlan.zhihu.com/p/55071842?utm_source=ZHShareTargetIDMore&utm_medium=social&utm_oi=48092694970368"
   ],
   "metadata": {
    "collapsed": false
   }
  },
  {
   "cell_type": "code",
   "execution_count": 69,
   "outputs": [],
   "source": [
    "from typing import Iterable, Tuple, Dict\n",
    "import pandas as pd\n",
    "import pendulum as pdl\n",
    "from myhelpers.tushare_pro import pro\n",
    "from myhelpers.pandas_extensions import get_head_and_tail\n",
    "from myhelpers.mytypings import DataFrame\n",
    "import toolz as tlz\n",
    "import toolz.curried as c\n",
    "from toolz import pipe as pp\n"
   ],
   "metadata": {
    "collapsed": false,
    "pycharm": {
     "name": "#%%\n",
     "is_executing": false
    }
   }
  },
  {
   "cell_type": "code",
   "execution_count": 90,
   "outputs": [
    {
     "data": {
      "text/plain": "   exchange  cal_date  is_open\n0       SSE  20190513        1\n1       SSE  20190514        1\n2       SSE  20190515        1\n3       SSE  20190516        1\n4       SSE  20190517        1\n59      SSE  20190805        1\n60      SSE  20190806        1\n61      SSE  20190807        1\n62      SSE  20190808        1\n63      SSE  20190809        1",
      "text/html": "<div>\n<style scoped>\n    .dataframe tbody tr th:only-of-type {\n        vertical-align: middle;\n    }\n\n    .dataframe tbody tr th {\n        vertical-align: top;\n    }\n\n    .dataframe thead th {\n        text-align: right;\n    }\n</style>\n<table border=\"1\" class=\"dataframe\">\n  <thead>\n    <tr style=\"text-align: right;\">\n      <th></th>\n      <th>exchange</th>\n      <th>cal_date</th>\n      <th>is_open</th>\n    </tr>\n  </thead>\n  <tbody>\n    <tr>\n      <th>0</th>\n      <td>SSE</td>\n      <td>20190513</td>\n      <td>1</td>\n    </tr>\n    <tr>\n      <th>1</th>\n      <td>SSE</td>\n      <td>20190514</td>\n      <td>1</td>\n    </tr>\n    <tr>\n      <th>2</th>\n      <td>SSE</td>\n      <td>20190515</td>\n      <td>1</td>\n    </tr>\n    <tr>\n      <th>3</th>\n      <td>SSE</td>\n      <td>20190516</td>\n      <td>1</td>\n    </tr>\n    <tr>\n      <th>4</th>\n      <td>SSE</td>\n      <td>20190517</td>\n      <td>1</td>\n    </tr>\n    <tr>\n      <th>59</th>\n      <td>SSE</td>\n      <td>20190805</td>\n      <td>1</td>\n    </tr>\n    <tr>\n      <th>60</th>\n      <td>SSE</td>\n      <td>20190806</td>\n      <td>1</td>\n    </tr>\n    <tr>\n      <th>61</th>\n      <td>SSE</td>\n      <td>20190807</td>\n      <td>1</td>\n    </tr>\n    <tr>\n      <th>62</th>\n      <td>SSE</td>\n      <td>20190808</td>\n      <td>1</td>\n    </tr>\n    <tr>\n      <th>63</th>\n      <td>SSE</td>\n      <td>20190809</td>\n      <td>1</td>\n    </tr>\n  </tbody>\n</table>\n</div>"
     },
     "metadata": {},
     "output_type": "execute_result",
     "execution_count": 90
    }
   ],
   "source": [
    "# 计算最近三个月的三因子\n",
    "today = pdl.today()   # 获取今天日期\n",
    "\n",
    "# 获取三个月前日期\n",
    "start_date = today.subtract(months=3).format(\"YYYYMMDD\")\n",
    "end_date = today.format(\"YYYYMMDD\")\n",
    "\n",
    "# 获取股市交易日日历\n",
    "trading_cal = pro.trade_cal(exchange=\"SSE\", \n",
    "                            start_date=start_date, \n",
    "                            end_date=end_date,\n",
    "                            is_open=\"1\")\n",
    "\n",
    "# 看一眼日历长什么样\n",
    "get_head_and_tail(trading_cal)\n"
   ],
   "metadata": {
    "collapsed": false,
    "pycharm": {
     "name": "#%%\n",
     "is_executing": false
    }
   }
  },
  {
   "cell_type": "code",
   "execution_count": 71,
   "outputs": [
    {
     "name": "stderr",
     "text": [
      "c:\\users\\administrator\\.virtualenvs\\fof-eda-mwopwcas\\lib\\site-packages\\toolz\\functoolz.py:303: FutureWarning: Sorting because non-concatenation axis is not aligned. A future version\nof pandas will change to not sort by default.\n\nTo accept the future behavior, pass 'sort=False'.\n\nTo retain the current behavior and silence the warning, pass 'sort=True'.\n\n  return self._partial(*args, **kwargs)\n"
     ],
     "output_type": "stream"
    },
    {
     "data": {
      "text/plain": "          amount  change       circ_mv  close_x  close_y  float_share  \\\n0      42400.760    0.26  2.004950e+05     9.94     9.94   20170.5187   \n1      78448.317    0.09  7.120721e+05     4.46     4.46  159657.4300   \n2      26430.674    0.15  1.363415e+05     4.50     4.50   30298.1008   \n3       8329.510   -0.09  1.772141e+05     1.78     1.78   99558.4713   \n4      77545.322    0.34  3.153012e+05     7.58     7.58   41596.4578   \n3647  697605.312   -0.36  2.651270e+07    27.29    27.29  971517.0043   \n3648    5839.596    0.01  1.504416e+05    18.14    18.14    8293.3609   \n3649   21055.174   -0.01  2.190442e+05     7.09     7.09   30894.8044   \n3650   24054.283   -0.07  5.971188e+05     3.74     3.74  159657.4300   \n3651    8893.623    0.01  1.164834e+05     1.17     1.17   99558.4713   \n\n       free_share   high    low   open  ...   ps_ttm      total_mv  \\\n0      13309.1796   9.95   9.63   9.76  ...   6.7411  2.004950e+05   \n1     107282.7368   4.49   4.28   4.39  ...   0.2186  1.073944e+06   \n2      23947.2261   4.53   4.31   4.38  ...  21.1825  2.481066e+05   \n3      70698.4695   1.78   1.78   1.78  ...   1.8253  3.022876e+05   \n4      27046.4598   7.73   7.05   7.20  ...   0.6582  8.736217e+05   \n3647  554628.8780  27.85  27.16  27.85  ...   0.9785  3.084355e+07   \n3648    5065.9161  18.42  18.13  18.35  ...   3.8254  1.523337e+05   \n3649   23394.7917   7.12   6.99   7.12  ...  59.9333  2.456317e+05   \n3650  107282.7368   3.84   3.70   3.83  ...   0.1651  9.005716e+05   \n3651   70698.4695   1.19   1.16   1.16  ...   1.1998  1.986947e+05   \n\n       total_share  trade_date_x  trade_date_y    ts_code  turnover_rate  \\\n0     2.017052e+04      20190510      20190510  000014.SZ         2.1367   \n1     2.407945e+05      20190510      20190510  000016.SZ         1.1115   \n2     5.513479e+04      20190510      20190510  000017.SZ         1.9601   \n3     1.698245e+05      20190510      20190510  000018.SZ         0.4700   \n4     1.152535e+05      20190510      20190510  000019.SZ         2.5252   \n3647  1.130214e+06      20190809      20190809  000002.SZ         0.2622   \n3648  8.397668e+03      20190809      20190809  000004.SZ         0.3857   \n3649  3.464480e+04      20190809      20190809  000007.SZ         0.9649   \n3650  2.407945e+05      20190809      20190809  000016.SZ         0.4003   \n3651  1.698245e+05      20190809      20190809  000018.SZ         0.7612   \n\n      turnover_rate_f        vol volume_ratio  \n0              3.2382   43098.00         1.22  \n1              1.6541  177451.92         1.02  \n2              2.4799   59387.58         1.44  \n3              0.6619   46795.00         0.43  \n4              3.8836  105037.84         1.29  \n3647           0.4593  254721.49         0.65  \n3648           0.6315    3199.10         0.53  \n3649           1.2742   29808.88         0.60  \n3650           0.5957   63910.48         0.45  \n3651           1.0719   75783.40         0.77  \n\n[10 rows x 26 columns]",
      "text/html": "<div>\n<style scoped>\n    .dataframe tbody tr th:only-of-type {\n        vertical-align: middle;\n    }\n\n    .dataframe tbody tr th {\n        vertical-align: top;\n    }\n\n    .dataframe thead th {\n        text-align: right;\n    }\n</style>\n<table border=\"1\" class=\"dataframe\">\n  <thead>\n    <tr style=\"text-align: right;\">\n      <th></th>\n      <th>amount</th>\n      <th>change</th>\n      <th>circ_mv</th>\n      <th>close_x</th>\n      <th>close_y</th>\n      <th>float_share</th>\n      <th>free_share</th>\n      <th>high</th>\n      <th>low</th>\n      <th>open</th>\n      <th>...</th>\n      <th>ps_ttm</th>\n      <th>total_mv</th>\n      <th>total_share</th>\n      <th>trade_date_x</th>\n      <th>trade_date_y</th>\n      <th>ts_code</th>\n      <th>turnover_rate</th>\n      <th>turnover_rate_f</th>\n      <th>vol</th>\n      <th>volume_ratio</th>\n    </tr>\n  </thead>\n  <tbody>\n    <tr>\n      <th>0</th>\n      <td>42400.760</td>\n      <td>0.26</td>\n      <td>2.004950e+05</td>\n      <td>9.94</td>\n      <td>9.94</td>\n      <td>20170.5187</td>\n      <td>13309.1796</td>\n      <td>9.95</td>\n      <td>9.63</td>\n      <td>9.76</td>\n      <td>...</td>\n      <td>6.7411</td>\n      <td>2.004950e+05</td>\n      <td>2.017052e+04</td>\n      <td>20190510</td>\n      <td>20190510</td>\n      <td>000014.SZ</td>\n      <td>2.1367</td>\n      <td>3.2382</td>\n      <td>43098.00</td>\n      <td>1.22</td>\n    </tr>\n    <tr>\n      <th>1</th>\n      <td>78448.317</td>\n      <td>0.09</td>\n      <td>7.120721e+05</td>\n      <td>4.46</td>\n      <td>4.46</td>\n      <td>159657.4300</td>\n      <td>107282.7368</td>\n      <td>4.49</td>\n      <td>4.28</td>\n      <td>4.39</td>\n      <td>...</td>\n      <td>0.2186</td>\n      <td>1.073944e+06</td>\n      <td>2.407945e+05</td>\n      <td>20190510</td>\n      <td>20190510</td>\n      <td>000016.SZ</td>\n      <td>1.1115</td>\n      <td>1.6541</td>\n      <td>177451.92</td>\n      <td>1.02</td>\n    </tr>\n    <tr>\n      <th>2</th>\n      <td>26430.674</td>\n      <td>0.15</td>\n      <td>1.363415e+05</td>\n      <td>4.50</td>\n      <td>4.50</td>\n      <td>30298.1008</td>\n      <td>23947.2261</td>\n      <td>4.53</td>\n      <td>4.31</td>\n      <td>4.38</td>\n      <td>...</td>\n      <td>21.1825</td>\n      <td>2.481066e+05</td>\n      <td>5.513479e+04</td>\n      <td>20190510</td>\n      <td>20190510</td>\n      <td>000017.SZ</td>\n      <td>1.9601</td>\n      <td>2.4799</td>\n      <td>59387.58</td>\n      <td>1.44</td>\n    </tr>\n    <tr>\n      <th>3</th>\n      <td>8329.510</td>\n      <td>-0.09</td>\n      <td>1.772141e+05</td>\n      <td>1.78</td>\n      <td>1.78</td>\n      <td>99558.4713</td>\n      <td>70698.4695</td>\n      <td>1.78</td>\n      <td>1.78</td>\n      <td>1.78</td>\n      <td>...</td>\n      <td>1.8253</td>\n      <td>3.022876e+05</td>\n      <td>1.698245e+05</td>\n      <td>20190510</td>\n      <td>20190510</td>\n      <td>000018.SZ</td>\n      <td>0.4700</td>\n      <td>0.6619</td>\n      <td>46795.00</td>\n      <td>0.43</td>\n    </tr>\n    <tr>\n      <th>4</th>\n      <td>77545.322</td>\n      <td>0.34</td>\n      <td>3.153012e+05</td>\n      <td>7.58</td>\n      <td>7.58</td>\n      <td>41596.4578</td>\n      <td>27046.4598</td>\n      <td>7.73</td>\n      <td>7.05</td>\n      <td>7.20</td>\n      <td>...</td>\n      <td>0.6582</td>\n      <td>8.736217e+05</td>\n      <td>1.152535e+05</td>\n      <td>20190510</td>\n      <td>20190510</td>\n      <td>000019.SZ</td>\n      <td>2.5252</td>\n      <td>3.8836</td>\n      <td>105037.84</td>\n      <td>1.29</td>\n    </tr>\n    <tr>\n      <th>3647</th>\n      <td>697605.312</td>\n      <td>-0.36</td>\n      <td>2.651270e+07</td>\n      <td>27.29</td>\n      <td>27.29</td>\n      <td>971517.0043</td>\n      <td>554628.8780</td>\n      <td>27.85</td>\n      <td>27.16</td>\n      <td>27.85</td>\n      <td>...</td>\n      <td>0.9785</td>\n      <td>3.084355e+07</td>\n      <td>1.130214e+06</td>\n      <td>20190809</td>\n      <td>20190809</td>\n      <td>000002.SZ</td>\n      <td>0.2622</td>\n      <td>0.4593</td>\n      <td>254721.49</td>\n      <td>0.65</td>\n    </tr>\n    <tr>\n      <th>3648</th>\n      <td>5839.596</td>\n      <td>0.01</td>\n      <td>1.504416e+05</td>\n      <td>18.14</td>\n      <td>18.14</td>\n      <td>8293.3609</td>\n      <td>5065.9161</td>\n      <td>18.42</td>\n      <td>18.13</td>\n      <td>18.35</td>\n      <td>...</td>\n      <td>3.8254</td>\n      <td>1.523337e+05</td>\n      <td>8.397668e+03</td>\n      <td>20190809</td>\n      <td>20190809</td>\n      <td>000004.SZ</td>\n      <td>0.3857</td>\n      <td>0.6315</td>\n      <td>3199.10</td>\n      <td>0.53</td>\n    </tr>\n    <tr>\n      <th>3649</th>\n      <td>21055.174</td>\n      <td>-0.01</td>\n      <td>2.190442e+05</td>\n      <td>7.09</td>\n      <td>7.09</td>\n      <td>30894.8044</td>\n      <td>23394.7917</td>\n      <td>7.12</td>\n      <td>6.99</td>\n      <td>7.12</td>\n      <td>...</td>\n      <td>59.9333</td>\n      <td>2.456317e+05</td>\n      <td>3.464480e+04</td>\n      <td>20190809</td>\n      <td>20190809</td>\n      <td>000007.SZ</td>\n      <td>0.9649</td>\n      <td>1.2742</td>\n      <td>29808.88</td>\n      <td>0.60</td>\n    </tr>\n    <tr>\n      <th>3650</th>\n      <td>24054.283</td>\n      <td>-0.07</td>\n      <td>5.971188e+05</td>\n      <td>3.74</td>\n      <td>3.74</td>\n      <td>159657.4300</td>\n      <td>107282.7368</td>\n      <td>3.84</td>\n      <td>3.70</td>\n      <td>3.83</td>\n      <td>...</td>\n      <td>0.1651</td>\n      <td>9.005716e+05</td>\n      <td>2.407945e+05</td>\n      <td>20190809</td>\n      <td>20190809</td>\n      <td>000016.SZ</td>\n      <td>0.4003</td>\n      <td>0.5957</td>\n      <td>63910.48</td>\n      <td>0.45</td>\n    </tr>\n    <tr>\n      <th>3651</th>\n      <td>8893.623</td>\n      <td>0.01</td>\n      <td>1.164834e+05</td>\n      <td>1.17</td>\n      <td>1.17</td>\n      <td>99558.4713</td>\n      <td>70698.4695</td>\n      <td>1.19</td>\n      <td>1.16</td>\n      <td>1.16</td>\n      <td>...</td>\n      <td>1.1998</td>\n      <td>1.986947e+05</td>\n      <td>1.698245e+05</td>\n      <td>20190809</td>\n      <td>20190809</td>\n      <td>000018.SZ</td>\n      <td>0.7612</td>\n      <td>1.0719</td>\n      <td>75783.40</td>\n      <td>0.77</td>\n    </tr>\n  </tbody>\n</table>\n<p>10 rows × 26 columns</p>\n</div>"
     },
     "metadata": {},
     "output_type": "execute_result",
     "execution_count": 71
    }
   ],
   "source": [
    "def get_daily_returns_and_basic(cal: DataFrame) -> Iterable[DataFrame]:\n",
    "    for date in cal[\"cal_date\"]:\n",
    "        daily_returns = pro.daily(trade_date=date)\n",
    "        daily_basic = pro.daily_basic(trade_date=date)\n",
    "        df_merge = daily_returns.merge(daily_basic, how=\"inner\", on=\"ts_code\")\n",
    "        yield df_merge\n",
    "\n",
    "df = pp(trading_cal,\n",
    "        get_daily_returns_and_basic,\n",
    "        tlz.curry(pd.concat, axis=0))\n",
    "get_head_and_tail(df)"
   ],
   "metadata": {
    "collapsed": false,
    "pycharm": {
     "name": "#%%\n",
     "is_executing": false
    }
   }
  },
  {
   "cell_type": "code",
   "execution_count": 72,
   "outputs": [],
   "source": [
    "# 保存一下数据\n",
    "df.to_csv(\"../data/returns_last_3months.csv\", encoding=\"utf8\")"
   ],
   "metadata": {
    "collapsed": false,
    "pycharm": {
     "name": "#%%\n",
     "is_executing": false
    }
   }
  },
  {
   "cell_type": "code",
   "execution_count": 61,
   "outputs": [],
   "source": [
    "# 划分大小市值企业\n",
    "def calc_smb_hml(df: DataFrame) -> Tuple[float, float]:\n",
    "    df[\"SB\"] = df[\"circ_mv\"].map(lambda x: \"B\" if x >= df[\"circ_mv\"].median() else \"S\")\n",
    "    \n",
    "    # 账面市值比：1/PB\n",
    "    df[\"BM\"] = 1/df[\"pb\"]\n",
    "    \n",
    "    # 划分中高低账面市值比公司\n",
    "    border_down, border_up = df['BM'].quantile([0.3, 0.7])\n",
    "    def make_hml(x: float) -> str:\n",
    "        if x >= border_up: return \"H\"\n",
    "        elif x <= border_down: return \"L\"\n",
    "        else: return \"M\"\n",
    "    df[\"HML\"] = df['BM'].map(make_hml)\n",
    "    \n",
    "    # 划分组合\n",
    "    def iter_groups(x):\n",
    "        for s in [\"S\", \"B\"]:\n",
    "            for h in [\"H\", \"M\", \"L\"]:\n",
    "                field = s + h\n",
    "                yield f\"R_{field}\", x.query(f\"(SB == '{s}') & (HML == '{h}')\")\n",
    "    groups = pp(df,\n",
    "                iter_groups)\n",
    "    # 计算各组的收益率\n",
    "    def calc_weighted_returns(x: DataFrame) -> float:\n",
    "        return (x[\"pct_chg\"] / 100 * x[\"circ_mv\"]).sum() / x[\"circ_mv\"].sum()\n",
    "    return_groups = pp(groups,\n",
    "                       c.map(lambda x: (x[0], calc_weighted_returns(x[1]))),\n",
    "                       dict)\n",
    "    \n",
    "    def cal_smb_hml(x: Dict[str, float]) -> Tuple[float, float]:\n",
    "        smb = (x[\"R_SL\"] + x[\"R_SM\"] + x[\"R_SL\"] - x[\"R_BL\"] - x[\"R_BM\"] - x[\"R_BH\"])\n",
    "        hml = (x[\"R_SH\"] + x[\"R_BH\"] - x[\"R_SL\"] - x[\"R_BL\"])\n",
    "        return smb, hml\n",
    "    \n",
    "    return cal_smb_hml(return_groups)"
   ],
   "metadata": {
    "collapsed": false,
    "pycharm": {
     "name": "#%%\n",
     "is_executing": false
    }
   }
  },
  {
   "cell_type": "code",
   "execution_count": 101,
   "outputs": [],
   "source": [
    "def make_smb_hml_df(df: DataFrame, cal: DataFrame) -> DataFrame:\n",
    "    data = []\n",
    "    for date in cal[\"cal_date\"]:\n",
    "        smb, hml = calc_smb_hml(df.query(f\"trade_date_x == '{date}'\"))\n",
    "        print(date, smb, hml)\n",
    "        data.append([date, smb, hml])\n",
    "    new_df = pd.DataFrame(data, columns=[\"trade_date\", \"SMB\", \"HML\"])\n",
    "    new_df.loc[:,\"trade_date\"] = pd.to_datetime(new_df[\"trade_date\"])\n",
    "    return new_df.set_index(\"trade_date\")"
   ],
   "metadata": {
    "collapsed": false,
    "pycharm": {
     "name": "#%%\n",
     "is_executing": false
    }
   }
  },
  {
   "cell_type": "code",
   "execution_count": 102,
   "outputs": [
    {
     "name": "stderr",
     "text": [
      "c:\\users\\administrator\\.virtualenvs\\fof-eda-mwopwcas\\lib\\site-packages\\ipykernel_launcher.py:3: SettingWithCopyWarning: \nA value is trying to be set on a copy of a slice from a DataFrame.\nTry using .loc[row_indexer,col_indexer] = value instead\n\nSee the caveats in the documentation: http://pandas.pydata.org/pandas-docs/stable/user_guide/indexing.html#returning-a-view-versus-a-copy\n  This is separate from the ipykernel package so we can avoid doing imports until\nc:\\users\\administrator\\.virtualenvs\\fof-eda-mwopwcas\\lib\\site-packages\\ipykernel_launcher.py:6: SettingWithCopyWarning: \nA value is trying to be set on a copy of a slice from a DataFrame.\nTry using .loc[row_indexer,col_indexer] = value instead\n\nSee the caveats in the documentation: http://pandas.pydata.org/pandas-docs/stable/user_guide/indexing.html#returning-a-view-versus-a-copy\n  \nc:\\users\\administrator\\.virtualenvs\\fof-eda-mwopwcas\\lib\\site-packages\\ipykernel_launcher.py:14: SettingWithCopyWarning: \nA value is trying to be set on a copy of a slice from a DataFrame.\nTry using .loc[row_indexer,col_indexer] = value instead\n\nSee the caveats in the documentation: http://pandas.pydata.org/pandas-docs/stable/user_guide/indexing.html#returning-a-view-versus-a-copy\n  \n"
     ],
     "output_type": "stream"
    },
    {
     "name": "stdout",
     "text": [
      "20190513 0.026746434980633147 -0.008759188922084271\n",
      "20190514 -0.0007118817538149689 -0.006293457101630741\n",
      "20190515 -0.0011341314383377776 -0.017826050207859195\n",
      "20190516 -0.00012923510230732765 0.007579961127716245\n",
      "20190517 -0.0226666732551641 -0.005671666835794155\n",
      "20190520 0.006681734421730306 0.006502040344651898\n",
      "20190521 0.0017827343879996335 -0.006627224280665998\n",
      "20190522 0.006005243730412722 -0.01758689156120544\n",
      "20190523 -0.015946222443800666 0.015300495171665814\n",
      "20190524 -0.01903397331092538 0.0037726983904570422\n",
      "20190527 0.039101678510268176 -0.016359200722340424\n",
      "20190528 -0.012478804675381192 -0.014113162265171314\n",
      "20190529 0.022992140576490475 -0.014982767521121765\n",
      "20190530 0.0005283161468115653 -0.002637832041712418\n",
      "20190531 0.021071989999012147 -0.012194346038605657\n",
      "20190603 -0.037965408069861796 -0.0017740080653751702\n",
      "20190604 -0.01792217808850102 0.01022187163670392\n",
      "20190605 0.01450247371913994 0.0034444979234285796\n",
      "20190606 -0.04780641915328372 0.013587482215670861\n",
      "20190610 0.00511052497729771 -0.01799242087480521\n",
      "20190611 0.014207856641143327 -0.01885199469047276\n",
      "20190612 0.01583835825217117 -0.0046222380747102465\n",
      "20190613 0.01948645711502041 0.004955298477810899\n",
      "20190614 -0.041771423460197334 0.002852223399430474\n",
      "20190617 0.0015167681666644712 0.003564854053453502\n",
      "20190618 -0.004446222589743104 -0.007288562548468261\n",
      "20190619 0.014876040442121406 -0.014855107103834048\n",
      "20190620 -0.03767970073141513 -0.00613461923669684\n",
      "20190621 0.05143572966209199 -0.00683784733953195\n",
      "20190624 -0.007210134129912202 -0.004970212371288222\n",
      "20190625 -0.004533442519254402 -0.0057355016075852795\n",
      "20190626 0.0031266861039869693 -0.006706520087773005\n",
      "20190627 -0.011160182091387551 -0.016309696393495745\n",
      "20190628 -0.03404251248195728 -0.0011709314723238342\n",
      "20190701 0.006460815218304387 -0.027270000929291823\n",
      "20190702 0.0012906006986233504 -0.00034751628101785175\n",
      "20190703 -0.007556614199445072 0.016081165089868163\n",
      "20190704 -0.001189400190649134 0.017575855540502523\n",
      "20190705 0.0024085953511566614 -0.023140491445119937\n",
      "20190708 -0.03169320443646127 -0.004544277072451305\n",
      "20190709 0.01539544921532628 -0.0013804073661103085\n",
      "20190710 -0.006582974783391495 -0.007210625739053195\n",
      "20190711 -0.0033882007749233885 0.0049316939839195014\n",
      "20190712 -0.015854083720394346 0.0016070075198995962\n",
      "20190715 0.014723575388503997 -0.010399467311119213\n",
      "20190716 0.02448435152227982 0.003286782722265002\n",
      "20190717 0.003378729366887363 -0.0036577518419355116\n",
      "20190718 -0.024966343776662264 0.005115718952695997\n",
      "20190719 -0.008080961411414312 0.0003665244440774649\n",
      "20190722 0.04615993627958381 -0.0662352138575039\n",
      "20190723 0.029044286161522978 -0.004592937046042266\n",
      "20190724 0.032637643974967614 -0.013012867126794782\n",
      "20190725 -0.002058336003833158 -0.015899643118428404\n",
      "20190726 -0.010200388204900277 -0.001482698575077216\n",
      "20190729 0.009892078269640014 -0.017727461696902244\n",
      "20190730 0.007097777486083492 0.0005918652989157537\n",
      "20190731 0.007915797392300748 -0.008855357980411389\n",
      "20190801 0.03161589495462812 -0.010364972319672166\n",
      "20190802 0.00046816591605408284 -0.01879756824576369\n",
      "20190805 0.032664294496373314 -0.01142445754698418\n",
      "20190806 -0.04537176646399329 -0.023082406833203613\n",
      "20190807 0.002436896010143076 -0.0013267976532447547\n",
      "20190808 -0.021382444367162624 -0.010319891645814146\n",
      "20190809 -0.008313997320103045 0.007008933727235007\n"
     ],
     "output_type": "stream"
    },
    {
     "data": {
      "text/plain": "                 SMB       HML\ntrade_date                    \n2019-05-13  0.026746 -0.008759\n2019-05-14 -0.000712 -0.006293\n2019-05-15 -0.001134 -0.017826\n2019-05-16 -0.000129  0.007580\n2019-05-17 -0.022667 -0.005672\n2019-08-05  0.032664 -0.011424\n2019-08-06 -0.045372 -0.023082\n2019-08-07  0.002437 -0.001327\n2019-08-08 -0.021382 -0.010320\n2019-08-09 -0.008314  0.007009",
      "text/html": "<div>\n<style scoped>\n    .dataframe tbody tr th:only-of-type {\n        vertical-align: middle;\n    }\n\n    .dataframe tbody tr th {\n        vertical-align: top;\n    }\n\n    .dataframe thead th {\n        text-align: right;\n    }\n</style>\n<table border=\"1\" class=\"dataframe\">\n  <thead>\n    <tr style=\"text-align: right;\">\n      <th></th>\n      <th>SMB</th>\n      <th>HML</th>\n    </tr>\n    <tr>\n      <th>trade_date</th>\n      <th></th>\n      <th></th>\n    </tr>\n  </thead>\n  <tbody>\n    <tr>\n      <th>2019-05-13</th>\n      <td>0.026746</td>\n      <td>-0.008759</td>\n    </tr>\n    <tr>\n      <th>2019-05-14</th>\n      <td>-0.000712</td>\n      <td>-0.006293</td>\n    </tr>\n    <tr>\n      <th>2019-05-15</th>\n      <td>-0.001134</td>\n      <td>-0.017826</td>\n    </tr>\n    <tr>\n      <th>2019-05-16</th>\n      <td>-0.000129</td>\n      <td>0.007580</td>\n    </tr>\n    <tr>\n      <th>2019-05-17</th>\n      <td>-0.022667</td>\n      <td>-0.005672</td>\n    </tr>\n    <tr>\n      <th>2019-08-05</th>\n      <td>0.032664</td>\n      <td>-0.011424</td>\n    </tr>\n    <tr>\n      <th>2019-08-06</th>\n      <td>-0.045372</td>\n      <td>-0.023082</td>\n    </tr>\n    <tr>\n      <th>2019-08-07</th>\n      <td>0.002437</td>\n      <td>-0.001327</td>\n    </tr>\n    <tr>\n      <th>2019-08-08</th>\n      <td>-0.021382</td>\n      <td>-0.010320</td>\n    </tr>\n    <tr>\n      <th>2019-08-09</th>\n      <td>-0.008314</td>\n      <td>0.007009</td>\n    </tr>\n  </tbody>\n</table>\n</div>"
     },
     "metadata": {},
     "output_type": "execute_result",
     "execution_count": 102
    }
   ],
   "source": [
    "df_tfm = make_smb_hml_df(df, trading_cal)\n",
    "get_head_and_tail(df_tfm)\n"
   ],
   "metadata": {
    "collapsed": false,
    "pycharm": {
     "name": "#%%\n",
     "is_executing": false
    }
   }
  },
  {
   "cell_type": "code",
   "execution_count": 103,
   "outputs": [],
   "source": [
    "# 保存一下数据\n",
    "df_tfm.to_csv(\"../data/smb_html.csv\", encoding=\"utf8\")\n"
   ],
   "metadata": {
    "collapsed": false,
    "pycharm": {
     "name": "#%%\n",
     "is_executing": false
    }
   }
  },
  {
   "cell_type": "code",
   "execution_count": 107,
   "outputs": [
    {
     "data": {
      "text/plain": "            pct_chg       SMB       HML\n2019-05-13  -1.2081  0.026746 -0.008759\n2019-05-13  -1.0373  0.026746 -0.008759\n2019-05-13  -1.3258  0.026746 -0.008759\n2019-05-13  -1.7833  0.026746 -0.008759\n2019-05-13  -2.4142  0.026746 -0.008759\n2019-08-09  -1.3020 -0.008314  0.007009\n2019-08-09   0.0552 -0.008314  0.007009\n2019-08-09  -0.1408 -0.008314  0.007009\n2019-08-09  -1.8373 -0.008314  0.007009\n2019-08-09   0.8621 -0.008314  0.007009",
      "text/html": "<div>\n<style scoped>\n    .dataframe tbody tr th:only-of-type {\n        vertical-align: middle;\n    }\n\n    .dataframe tbody tr th {\n        vertical-align: top;\n    }\n\n    .dataframe thead th {\n        text-align: right;\n    }\n</style>\n<table border=\"1\" class=\"dataframe\">\n  <thead>\n    <tr style=\"text-align: right;\">\n      <th></th>\n      <th>pct_chg</th>\n      <th>SMB</th>\n      <th>HML</th>\n    </tr>\n  </thead>\n  <tbody>\n    <tr>\n      <th>2019-05-13</th>\n      <td>-1.2081</td>\n      <td>0.026746</td>\n      <td>-0.008759</td>\n    </tr>\n    <tr>\n      <th>2019-05-13</th>\n      <td>-1.0373</td>\n      <td>0.026746</td>\n      <td>-0.008759</td>\n    </tr>\n    <tr>\n      <th>2019-05-13</th>\n      <td>-1.3258</td>\n      <td>0.026746</td>\n      <td>-0.008759</td>\n    </tr>\n    <tr>\n      <th>2019-05-13</th>\n      <td>-1.7833</td>\n      <td>0.026746</td>\n      <td>-0.008759</td>\n    </tr>\n    <tr>\n      <th>2019-05-13</th>\n      <td>-2.4142</td>\n      <td>0.026746</td>\n      <td>-0.008759</td>\n    </tr>\n    <tr>\n      <th>2019-08-09</th>\n      <td>-1.3020</td>\n      <td>-0.008314</td>\n      <td>0.007009</td>\n    </tr>\n    <tr>\n      <th>2019-08-09</th>\n      <td>0.0552</td>\n      <td>-0.008314</td>\n      <td>0.007009</td>\n    </tr>\n    <tr>\n      <th>2019-08-09</th>\n      <td>-0.1408</td>\n      <td>-0.008314</td>\n      <td>0.007009</td>\n    </tr>\n    <tr>\n      <th>2019-08-09</th>\n      <td>-1.8373</td>\n      <td>-0.008314</td>\n      <td>0.007009</td>\n    </tr>\n    <tr>\n      <th>2019-08-09</th>\n      <td>0.8621</td>\n      <td>-0.008314</td>\n      <td>0.007009</td>\n    </tr>\n  </tbody>\n</table>\n</div>"
     },
     "metadata": {},
     "output_type": "execute_result",
     "execution_count": 107
    }
   ],
   "source": [
    "# 合并所有数据\n",
    "whole_data = pd.merge(df.loc[:, [\"trade_date_x\", \"pct_chg\"]].set_index(\"trade_date_x\"), \n",
    "                      df_tfm, how=\"inner\",\n",
    "                      left_index=True, right_index=True)\n",
    "get_head_and_tail(whole_data)"
   ],
   "metadata": {
    "collapsed": false,
    "pycharm": {
     "name": "#%%\n",
     "is_executing": false
    }
   }
  },
  {
   "cell_type": "code",
   "execution_count": 110,
   "outputs": [
    {
     "data": {
      "text/plain": "              ts_code      close       open       high        low  pre_close  \\\ntrade_date                                                                     \n20190809    000001.SH  2774.7532  2805.5856  2808.3289  2770.4777  2794.5523   \n20190808    000001.SH  2794.5523  2784.1835  2799.6859  2782.2447  2768.6795   \n20190807    000001.SH  2768.6795  2789.0187  2792.6934  2768.6795  2777.5559   \n20190806    000001.SH  2777.5559  2776.9889  2787.4185  2733.9242  2821.4957   \n20190805    000001.SH  2821.4957  2854.5780  2863.6891  2821.4957  2867.8376   \n20190517    000001.SH  2882.2962  2955.7669  2956.7832  2873.7998  2955.7110   \n20190516    000001.SH  2955.7110  2933.4954  2956.1710  2929.0645  2938.6781   \n20190515    000001.SH  2938.6781  2902.6423  2945.3946  2902.6423  2883.6107   \n20190514    000001.SH  2883.6107  2872.8336  2909.2041  2872.8336  2903.7131   \n20190513    000001.SH  2903.7131  2905.0670  2921.4103  2892.1745  2939.2106   \n\n             change  pct_chg_rm          vol       amount  \ntrade_date                                                 \n20190809   -19.7991     -0.7085  148240293.0  171140338.8  \n20190808    25.8728      0.9345  149539564.0  178156148.4  \n20190807    -8.8764     -0.3196  157716752.0  176475728.4  \n20190806   -43.9398     -1.5573  231123727.0  255209231.2  \n20190805   -46.3419     -1.6159  167419423.0  196891483.1  \n20190517   -73.4148     -2.4838  266301643.0  247875177.7  \n20190516    17.0329      0.5796  248385701.0  226203068.9  \n20190515    55.0674      1.9097  230519701.0  226262785.6  \n20190514   -20.1024     -0.6923  208345353.0  201223315.4  \n20190513   -35.4975     -1.2077  212029882.0  202624125.0  ",
      "text/html": "<div>\n<style scoped>\n    .dataframe tbody tr th:only-of-type {\n        vertical-align: middle;\n    }\n\n    .dataframe tbody tr th {\n        vertical-align: top;\n    }\n\n    .dataframe thead th {\n        text-align: right;\n    }\n</style>\n<table border=\"1\" class=\"dataframe\">\n  <thead>\n    <tr style=\"text-align: right;\">\n      <th></th>\n      <th>ts_code</th>\n      <th>close</th>\n      <th>open</th>\n      <th>high</th>\n      <th>low</th>\n      <th>pre_close</th>\n      <th>change</th>\n      <th>pct_chg_rm</th>\n      <th>vol</th>\n      <th>amount</th>\n    </tr>\n    <tr>\n      <th>trade_date</th>\n      <th></th>\n      <th></th>\n      <th></th>\n      <th></th>\n      <th></th>\n      <th></th>\n      <th></th>\n      <th></th>\n      <th></th>\n      <th></th>\n    </tr>\n  </thead>\n  <tbody>\n    <tr>\n      <th>20190809</th>\n      <td>000001.SH</td>\n      <td>2774.7532</td>\n      <td>2805.5856</td>\n      <td>2808.3289</td>\n      <td>2770.4777</td>\n      <td>2794.5523</td>\n      <td>-19.7991</td>\n      <td>-0.7085</td>\n      <td>148240293.0</td>\n      <td>171140338.8</td>\n    </tr>\n    <tr>\n      <th>20190808</th>\n      <td>000001.SH</td>\n      <td>2794.5523</td>\n      <td>2784.1835</td>\n      <td>2799.6859</td>\n      <td>2782.2447</td>\n      <td>2768.6795</td>\n      <td>25.8728</td>\n      <td>0.9345</td>\n      <td>149539564.0</td>\n      <td>178156148.4</td>\n    </tr>\n    <tr>\n      <th>20190807</th>\n      <td>000001.SH</td>\n      <td>2768.6795</td>\n      <td>2789.0187</td>\n      <td>2792.6934</td>\n      <td>2768.6795</td>\n      <td>2777.5559</td>\n      <td>-8.8764</td>\n      <td>-0.3196</td>\n      <td>157716752.0</td>\n      <td>176475728.4</td>\n    </tr>\n    <tr>\n      <th>20190806</th>\n      <td>000001.SH</td>\n      <td>2777.5559</td>\n      <td>2776.9889</td>\n      <td>2787.4185</td>\n      <td>2733.9242</td>\n      <td>2821.4957</td>\n      <td>-43.9398</td>\n      <td>-1.5573</td>\n      <td>231123727.0</td>\n      <td>255209231.2</td>\n    </tr>\n    <tr>\n      <th>20190805</th>\n      <td>000001.SH</td>\n      <td>2821.4957</td>\n      <td>2854.5780</td>\n      <td>2863.6891</td>\n      <td>2821.4957</td>\n      <td>2867.8376</td>\n      <td>-46.3419</td>\n      <td>-1.6159</td>\n      <td>167419423.0</td>\n      <td>196891483.1</td>\n    </tr>\n    <tr>\n      <th>20190517</th>\n      <td>000001.SH</td>\n      <td>2882.2962</td>\n      <td>2955.7669</td>\n      <td>2956.7832</td>\n      <td>2873.7998</td>\n      <td>2955.7110</td>\n      <td>-73.4148</td>\n      <td>-2.4838</td>\n      <td>266301643.0</td>\n      <td>247875177.7</td>\n    </tr>\n    <tr>\n      <th>20190516</th>\n      <td>000001.SH</td>\n      <td>2955.7110</td>\n      <td>2933.4954</td>\n      <td>2956.1710</td>\n      <td>2929.0645</td>\n      <td>2938.6781</td>\n      <td>17.0329</td>\n      <td>0.5796</td>\n      <td>248385701.0</td>\n      <td>226203068.9</td>\n    </tr>\n    <tr>\n      <th>20190515</th>\n      <td>000001.SH</td>\n      <td>2938.6781</td>\n      <td>2902.6423</td>\n      <td>2945.3946</td>\n      <td>2902.6423</td>\n      <td>2883.6107</td>\n      <td>55.0674</td>\n      <td>1.9097</td>\n      <td>230519701.0</td>\n      <td>226262785.6</td>\n    </tr>\n    <tr>\n      <th>20190514</th>\n      <td>000001.SH</td>\n      <td>2883.6107</td>\n      <td>2872.8336</td>\n      <td>2909.2041</td>\n      <td>2872.8336</td>\n      <td>2903.7131</td>\n      <td>-20.1024</td>\n      <td>-0.6923</td>\n      <td>208345353.0</td>\n      <td>201223315.4</td>\n    </tr>\n    <tr>\n      <th>20190513</th>\n      <td>000001.SH</td>\n      <td>2903.7131</td>\n      <td>2905.0670</td>\n      <td>2921.4103</td>\n      <td>2892.1745</td>\n      <td>2939.2106</td>\n      <td>-35.4975</td>\n      <td>-1.2077</td>\n      <td>212029882.0</td>\n      <td>202624125.0</td>\n    </tr>\n  </tbody>\n</table>\n</div>"
     },
     "metadata": {},
     "output_type": "execute_result",
     "execution_count": 110
    }
   ],
   "source": [
    "# 获取大盘收益\n",
    "# 使用上证综指\n",
    "df_rm = (\n",
    "    pro.index_daily(ts_code=\"000001.sh\", start_date=start_date, end_date=end_date)\n",
    "       .rename(columns={\"pct_chg\": \"pct_chg_rm\"})\n",
    "       .set_index(\"trade_date\")\n",
    ")\n",
    "get_head_and_tail(df_rm)\n"
   ],
   "metadata": {
    "collapsed": false,
    "pycharm": {
     "name": "#%%\n",
     "is_executing": false
    }
   }
  },
  {
   "cell_type": "code",
   "execution_count": 111,
   "outputs": [
    {
     "data": {
      "text/plain": "              on     1w     2w     1m     3m     6m     9m      1y\ndate                                                              \n20190809  2.5960  2.644  2.512  2.571  2.618  2.706  3.002  3.0785\n20190808  2.5000  2.578  2.438  2.562  2.618  2.701  3.004  3.0805\n20190807  2.2200  2.520  2.433  2.564  2.623  2.701  3.005  3.0830\n20190806  2.2610  2.494  2.486  2.584  2.635  2.703  3.010  3.0870\n20190805  2.5440  2.619  2.517  2.594  2.646  2.706  3.015  3.0940\n20190517  2.1340  2.589  2.494  2.705  2.900  2.950  3.050  3.1620\n20190516  2.2810  2.607  2.440  2.708  2.896  2.947  3.051  3.1570\n20190515  2.5334  2.641  2.462  2.713  2.893  2.948  3.052  3.1530\n20190514  2.4123  2.650  2.449  2.717  2.891  2.948  3.050  3.1530\n20190513  2.1560  2.579  2.405  2.715  2.889  2.948  3.050  3.1520",
      "text/html": "<div>\n<style scoped>\n    .dataframe tbody tr th:only-of-type {\n        vertical-align: middle;\n    }\n\n    .dataframe tbody tr th {\n        vertical-align: top;\n    }\n\n    .dataframe thead th {\n        text-align: right;\n    }\n</style>\n<table border=\"1\" class=\"dataframe\">\n  <thead>\n    <tr style=\"text-align: right;\">\n      <th></th>\n      <th>on</th>\n      <th>1w</th>\n      <th>2w</th>\n      <th>1m</th>\n      <th>3m</th>\n      <th>6m</th>\n      <th>9m</th>\n      <th>1y</th>\n    </tr>\n    <tr>\n      <th>date</th>\n      <th></th>\n      <th></th>\n      <th></th>\n      <th></th>\n      <th></th>\n      <th></th>\n      <th></th>\n      <th></th>\n    </tr>\n  </thead>\n  <tbody>\n    <tr>\n      <th>20190809</th>\n      <td>2.5960</td>\n      <td>2.644</td>\n      <td>2.512</td>\n      <td>2.571</td>\n      <td>2.618</td>\n      <td>2.706</td>\n      <td>3.002</td>\n      <td>3.0785</td>\n    </tr>\n    <tr>\n      <th>20190808</th>\n      <td>2.5000</td>\n      <td>2.578</td>\n      <td>2.438</td>\n      <td>2.562</td>\n      <td>2.618</td>\n      <td>2.701</td>\n      <td>3.004</td>\n      <td>3.0805</td>\n    </tr>\n    <tr>\n      <th>20190807</th>\n      <td>2.2200</td>\n      <td>2.520</td>\n      <td>2.433</td>\n      <td>2.564</td>\n      <td>2.623</td>\n      <td>2.701</td>\n      <td>3.005</td>\n      <td>3.0830</td>\n    </tr>\n    <tr>\n      <th>20190806</th>\n      <td>2.2610</td>\n      <td>2.494</td>\n      <td>2.486</td>\n      <td>2.584</td>\n      <td>2.635</td>\n      <td>2.703</td>\n      <td>3.010</td>\n      <td>3.0870</td>\n    </tr>\n    <tr>\n      <th>20190805</th>\n      <td>2.5440</td>\n      <td>2.619</td>\n      <td>2.517</td>\n      <td>2.594</td>\n      <td>2.646</td>\n      <td>2.706</td>\n      <td>3.015</td>\n      <td>3.0940</td>\n    </tr>\n    <tr>\n      <th>20190517</th>\n      <td>2.1340</td>\n      <td>2.589</td>\n      <td>2.494</td>\n      <td>2.705</td>\n      <td>2.900</td>\n      <td>2.950</td>\n      <td>3.050</td>\n      <td>3.1620</td>\n    </tr>\n    <tr>\n      <th>20190516</th>\n      <td>2.2810</td>\n      <td>2.607</td>\n      <td>2.440</td>\n      <td>2.708</td>\n      <td>2.896</td>\n      <td>2.947</td>\n      <td>3.051</td>\n      <td>3.1570</td>\n    </tr>\n    <tr>\n      <th>20190515</th>\n      <td>2.5334</td>\n      <td>2.641</td>\n      <td>2.462</td>\n      <td>2.713</td>\n      <td>2.893</td>\n      <td>2.948</td>\n      <td>3.052</td>\n      <td>3.1530</td>\n    </tr>\n    <tr>\n      <th>20190514</th>\n      <td>2.4123</td>\n      <td>2.650</td>\n      <td>2.449</td>\n      <td>2.717</td>\n      <td>2.891</td>\n      <td>2.948</td>\n      <td>3.050</td>\n      <td>3.1530</td>\n    </tr>\n    <tr>\n      <th>20190513</th>\n      <td>2.1560</td>\n      <td>2.579</td>\n      <td>2.405</td>\n      <td>2.715</td>\n      <td>2.889</td>\n      <td>2.948</td>\n      <td>3.050</td>\n      <td>3.1520</td>\n    </tr>\n  </tbody>\n</table>\n</div>"
     },
     "metadata": {},
     "output_type": "execute_result",
     "execution_count": 111
    }
   ],
   "source": [
    "# 使用shibor隔夜拆借利率\n",
    "df_rf = (\n",
    "    pro.shibor(start_date=start_date, end_date=end_date)\n",
    "       .set_index(\"date\")\n",
    ")\n",
    "get_head_and_tail(df_rf)\n"
   ],
   "metadata": {
    "collapsed": false,
    "pycharm": {
     "name": "#%%\n",
     "is_executing": false
    }
   }
  },
  {
   "cell_type": "code",
   "execution_count": 120,
   "outputs": [
    {
     "data": {
      "text/plain": "            adj_return   premium       SMB       HML\n2019-05-13   -0.012140 -0.012136  0.026746 -0.008759\n2019-05-13   -0.010432 -0.012136  0.026746 -0.008759\n2019-05-13   -0.013317 -0.012136  0.026746 -0.008759\n2019-05-13   -0.017892 -0.012136  0.026746 -0.008759\n2019-05-13   -0.024201 -0.012136  0.026746 -0.008759\n2019-08-09   -0.013091 -0.007156 -0.008314  0.007009\n2019-08-09    0.000481 -0.007156 -0.008314  0.007009\n2019-08-09   -0.001479 -0.007156 -0.008314  0.007009\n2019-08-09   -0.018444 -0.007156 -0.008314  0.007009\n2019-08-09    0.008550 -0.007156 -0.008314  0.007009",
      "text/html": "<div>\n<style scoped>\n    .dataframe tbody tr th:only-of-type {\n        vertical-align: middle;\n    }\n\n    .dataframe tbody tr th {\n        vertical-align: top;\n    }\n\n    .dataframe thead th {\n        text-align: right;\n    }\n</style>\n<table border=\"1\" class=\"dataframe\">\n  <thead>\n    <tr style=\"text-align: right;\">\n      <th></th>\n      <th>adj_return</th>\n      <th>premium</th>\n      <th>SMB</th>\n      <th>HML</th>\n    </tr>\n  </thead>\n  <tbody>\n    <tr>\n      <th>2019-05-13</th>\n      <td>-0.012140</td>\n      <td>-0.012136</td>\n      <td>0.026746</td>\n      <td>-0.008759</td>\n    </tr>\n    <tr>\n      <th>2019-05-13</th>\n      <td>-0.010432</td>\n      <td>-0.012136</td>\n      <td>0.026746</td>\n      <td>-0.008759</td>\n    </tr>\n    <tr>\n      <th>2019-05-13</th>\n      <td>-0.013317</td>\n      <td>-0.012136</td>\n      <td>0.026746</td>\n      <td>-0.008759</td>\n    </tr>\n    <tr>\n      <th>2019-05-13</th>\n      <td>-0.017892</td>\n      <td>-0.012136</td>\n      <td>0.026746</td>\n      <td>-0.008759</td>\n    </tr>\n    <tr>\n      <th>2019-05-13</th>\n      <td>-0.024201</td>\n      <td>-0.012136</td>\n      <td>0.026746</td>\n      <td>-0.008759</td>\n    </tr>\n    <tr>\n      <th>2019-08-09</th>\n      <td>-0.013091</td>\n      <td>-0.007156</td>\n      <td>-0.008314</td>\n      <td>0.007009</td>\n    </tr>\n    <tr>\n      <th>2019-08-09</th>\n      <td>0.000481</td>\n      <td>-0.007156</td>\n      <td>-0.008314</td>\n      <td>0.007009</td>\n    </tr>\n    <tr>\n      <th>2019-08-09</th>\n      <td>-0.001479</td>\n      <td>-0.007156</td>\n      <td>-0.008314</td>\n      <td>0.007009</td>\n    </tr>\n    <tr>\n      <th>2019-08-09</th>\n      <td>-0.018444</td>\n      <td>-0.007156</td>\n      <td>-0.008314</td>\n      <td>0.007009</td>\n    </tr>\n    <tr>\n      <th>2019-08-09</th>\n      <td>0.008550</td>\n      <td>-0.007156</td>\n      <td>-0.008314</td>\n      <td>0.007009</td>\n    </tr>\n  </tbody>\n</table>\n</div>"
     },
     "metadata": {},
     "output_type": "execute_result",
     "execution_count": 120
    }
   ],
   "source": [
    "# 数据融合\n",
    "df_all = (\n",
    "    df.set_index(\"trade_date_x\").merge(df_tfm, how=\"inner\", left_index=True, right_index=True )\n",
    "    .merge(df_rm, how=\"inner\", left_index=True, right_index=True)\n",
    "    .merge(df_rf, how=\"inner\", left_index=True, right_index=True)\n",
    ")\n",
    "df_all = (df_all.assign(premium = df_all[\"pct_chg_rm\"] / 100 - df_all[\"on\"].map(lambda x: (1 + x/100)**(1/360) - 1))\n",
    "          .assign(adj_return = df_all[\"pct_chg\"] / 100 - df_all[\"on\"].map(lambda x: (1 + x/100)**(1/360) - 1))\n",
    "          .loc[:, [\"adj_return\", \"premium\", \"SMB\", \"HML\"]])\n",
    "get_head_and_tail(df_all)"
   ],
   "metadata": {
    "collapsed": false,
    "pycharm": {
     "name": "#%% \n",
     "is_executing": false
    }
   }
  },
  {
   "cell_type": "code",
   "execution_count": 137,
   "outputs": [
    {
     "data": {
      "text/plain": "     trade_date_x  pct_chg\n0        20190510   2.6860\n1        20190510   2.0595\n2        20190510   3.4483\n3        20190510  -4.8128\n4        20190510   4.6961\n3647     20190809  -1.3020\n3648     20190809   0.0552\n3649     20190809  -0.1408\n3650     20190809  -1.8373\n3651     20190809   0.8621",
      "text/html": "<div>\n<style scoped>\n    .dataframe tbody tr th:only-of-type {\n        vertical-align: middle;\n    }\n\n    .dataframe tbody tr th {\n        vertical-align: top;\n    }\n\n    .dataframe thead th {\n        text-align: right;\n    }\n</style>\n<table border=\"1\" class=\"dataframe\">\n  <thead>\n    <tr style=\"text-align: right;\">\n      <th></th>\n      <th>trade_date_x</th>\n      <th>pct_chg</th>\n    </tr>\n  </thead>\n  <tbody>\n    <tr>\n      <th>0</th>\n      <td>20190510</td>\n      <td>2.6860</td>\n    </tr>\n    <tr>\n      <th>1</th>\n      <td>20190510</td>\n      <td>2.0595</td>\n    </tr>\n    <tr>\n      <th>2</th>\n      <td>20190510</td>\n      <td>3.4483</td>\n    </tr>\n    <tr>\n      <th>3</th>\n      <td>20190510</td>\n      <td>-4.8128</td>\n    </tr>\n    <tr>\n      <th>4</th>\n      <td>20190510</td>\n      <td>4.6961</td>\n    </tr>\n    <tr>\n      <th>3647</th>\n      <td>20190809</td>\n      <td>-1.3020</td>\n    </tr>\n    <tr>\n      <th>3648</th>\n      <td>20190809</td>\n      <td>0.0552</td>\n    </tr>\n    <tr>\n      <th>3649</th>\n      <td>20190809</td>\n      <td>-0.1408</td>\n    </tr>\n    <tr>\n      <th>3650</th>\n      <td>20190809</td>\n      <td>-1.8373</td>\n    </tr>\n    <tr>\n      <th>3651</th>\n      <td>20190809</td>\n      <td>0.8621</td>\n    </tr>\n  </tbody>\n</table>\n</div>"
     },
     "metadata": {},
     "output_type": "execute_result",
     "execution_count": 137
    }
   ],
   "source": [
    "import numpy as np\n",
    "get_head_and_tail(df.loc[:,[\"trade_date_x\", \"pct_chg\"]])"
   ],
   "metadata": {
    "collapsed": false,
    "pycharm": {
     "name": "#%%\n",
     "is_executing": false
    }
   }
  },
  {
   "cell_type": "code",
   "execution_count": 122,
   "outputs": [],
   "source": [
    "# 保存一下数据\n",
    "df_all.to_csv(\"../data/df_all.csv\", encoding=\"utf8\")"
   ],
   "metadata": {
    "collapsed": false,
    "pycharm": {
     "name": "#%%\n",
     "is_executing": false
    }
   }
  },
  {
   "cell_type": "code",
   "execution_count": 121,
   "outputs": [
    {
     "name": "stdout",
     "text": [
      "                            OLS Regression Results                            \n==============================================================================\nDep. Variable:             adj_return   R-squared:                       0.175\nModel:                            OLS   Adj. R-squared:                  0.175\nMethod:                 Least Squares   F-statistic:                 1.637e+04\nDate:                Sun, 11 Aug 2019   Prob (F-statistic):               0.00\nTime:                        22:46:04   Log-Likelihood:             4.8385e+05\nNo. Observations:              231091   AIC:                        -9.677e+05\nDf Residuals:                  231087   BIC:                        -9.676e+05\nDf Model:                           3                                         \nCovariance Type:            nonrobust                                         \n==============================================================================\n                 coef    std err          t      P>|t|      [0.025      0.975]\n------------------------------------------------------------------------------\nIntercept      0.0005   7.04e-05      6.994      0.000       0.000       0.001\npremium        1.2039      0.006    190.214      0.000       1.191       1.216\nSMB            0.2354      0.003     74.652      0.000       0.229       0.242\nHML            0.0926      0.005     17.292      0.000       0.082       0.103\n==============================================================================\nOmnibus:                   608121.420   Durbin-Watson:                   1.623\nProb(Omnibus):                  0.000   Jarque-Bera (JB):      75499543598.421\nSkew:                          30.398   Prob(JB):                         0.00\nKurtosis:                    2802.522   Cond. No.                         104.\n==============================================================================\n\nWarnings:\n[1] Standard Errors assume that the covariance matrix of the errors is correctly specified.\n"
     ],
     "output_type": "stream"
    }
   ],
   "source": [
    "# 跑线性回归\n",
    "import statsmodels.formula.api as smf\n",
    "\n",
    "# 拟合OLS回归\n",
    "results = smf.ols(\"adj_return ~ premium + SMB + HML\", data = df_all).fit()\n",
    "\n",
    "# 打印结果\n",
    "print(results.summary())"
   ],
   "metadata": {
    "collapsed": false,
    "pycharm": {
     "name": "#%%\n",
     "is_executing": false
    }
   }
  }
 ],
 "metadata": {
  "language_info": {
   "codemirror_mode": {
    "name": "ipython",
    "version": 2
   },
   "file_extension": ".py",
   "mimetype": "text/x-python",
   "name": "python",
   "nbconvert_exporter": "python",
   "pygments_lexer": "ipython2",
   "version": "2.7.6"
  },
  "kernelspec": {
   "name": "python3",
   "language": "python",
   "display_name": "Python 3"
  },
  "pycharm": {
   "stem_cell": {
    "cell_type": "raw",
    "source": [],
    "metadata": {
     "collapsed": false
    }
   }
  }
 },
 "nbformat": 4,
 "nbformat_minor": 0
}